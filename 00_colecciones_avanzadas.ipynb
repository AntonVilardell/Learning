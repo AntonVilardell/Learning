{
  "nbformat": 4,
  "nbformat_minor": 0,
  "metadata": {
    "kernelspec": {
      "display_name": "teach",
      "language": "python",
      "name": "teach"
    },
    "language_info": {
      "codemirror_mode": {
        "name": "ipython",
        "version": 3
      },
      "file_extension": ".py",
      "mimetype": "text/x-python",
      "name": "python",
      "nbconvert_exporter": "python",
      "pygments_lexer": "ipython3",
      "version": "3.7.7"
    },
    "colab": {
      "name": "00_colecciones_avanzadas.ipynb",
      "provenance": [],
      "include_colab_link": true
    }
  },
  "cells": [
    {
      "cell_type": "markdown",
      "metadata": {
        "id": "view-in-github",
        "colab_type": "text"
      },
      "source": [
        "<a href=\"https://colab.research.google.com/github/AntonVilardell/Learning/blob/master/00_colecciones_avanzadas.ipynb\" target=\"_parent\"><img src=\"https://colab.research.google.com/assets/colab-badge.svg\" alt=\"Open In Colab\"/></a>"
      ]
    },
    {
      "cell_type": "markdown",
      "metadata": {
        "id": "i-D2t6pK662r"
      },
      "source": [
        "# Colecciones avanzadas"
      ]
    },
    {
      "cell_type": "markdown",
      "metadata": {
        "id": "I9QXc43R662y"
      },
      "source": [
        "```python\n",
        "import collections\n",
        "```"
      ]
    },
    {
      "cell_type": "code",
      "metadata": {
        "id": "HLAeAspD8j0a",
        "colab": {
          "base_uri": "https://localhost:8080/"
        },
        "outputId": "dd4864c7-4341-47ca-be97-7693dce46168"
      },
      "source": [
        "def print_L(L):\n",
        "  for x in range(L-1):\n",
        "    print(\"L\")\n",
        "  for x in range(L):\n",
        "    print('L',end=\"\")\n",
        "\n",
        "print_L(5)"
      ],
      "execution_count": null,
      "outputs": [
        {
          "output_type": "stream",
          "text": [
            "L\n",
            "L\n",
            "L\n",
            "L\n",
            "LLLLL"
          ],
          "name": "stdout"
        }
      ]
    },
    {
      "cell_type": "markdown",
      "metadata": {
        "id": "btZeXbv6662z"
      },
      "source": [
        "## ChainMap"
      ]
    },
    {
      "cell_type": "markdown",
      "metadata": {
        "id": "YGlIa0vD662z"
      },
      "source": [
        "`ChainMap` es una estructura de datos proporcionada por la biblioteca estándar de Python que permite tratar varios diccionarios como uno solo.\n",
        "\n",
        "*Diccionarios: constant-time lookups (búsquedas de tiempo constante)*"
      ]
    },
    {
      "cell_type": "markdown",
      "metadata": {
        "id": "D5j2Kn_Z662z"
      },
      "source": [
        "Ejercicio 🧠: construye un inventario hecho de diccionarios y crea un ChainMap de todos esos diccionarios."
      ]
    },
    {
      "cell_type": "code",
      "metadata": {
        "id": "tFIegUqt6620"
      },
      "source": [
        "toys = {\"Blocks\": 30, \"Monopoly\": 20}\n",
        "computers = {\"iMac\": 1000, \"Chromebook\": 800, \"PC\": 400}\n",
        "clothing = {\"Jeans\": 40, \"T-Shirt\": 10}"
      ],
      "execution_count": null,
      "outputs": []
    },
    {
      "cell_type": "code",
      "metadata": {
        "id": "p8WY8lzJ6620"
      },
      "source": [
        "from collections import ChainMap\n",
        "\n",
        "inventory = ChainMap(toys, computers, clothing)"
      ],
      "execution_count": null,
      "outputs": []
    },
    {
      "cell_type": "code",
      "metadata": {
        "id": "fYqEQMLe6621",
        "colab": {
          "base_uri": "https://localhost:8080/"
        },
        "outputId": "4b075f0c-5752-4646-b688-c5031324b6b9"
      },
      "source": [
        "inventory"
      ],
      "execution_count": null,
      "outputs": [
        {
          "output_type": "execute_result",
          "data": {
            "text/plain": [
              "ChainMap({'Blocks': 30, 'Monopoly': 20}, {'iMac': 1000, 'Chromebook': 800, 'PC': 400}, {'Jeans': 40, 'T-Shirt': 10})"
            ]
          },
          "metadata": {
            "tags": []
          },
          "execution_count": 3
        }
      ]
    },
    {
      "cell_type": "code",
      "metadata": {
        "id": "I4E7vKfS6622",
        "outputId": "2f68e70e-51b2-4608-b627-7840deb8d308"
      },
      "source": [
        "inventory[\"Monopoly\"]"
      ],
      "execution_count": null,
      "outputs": [
        {
          "output_type": "execute_result",
          "data": {
            "text/plain": [
              "20"
            ]
          },
          "metadata": {
            "tags": []
          },
          "execution_count": 4
        }
      ]
    },
    {
      "cell_type": "code",
      "metadata": {
        "id": "dp4E2xlD6622"
      },
      "source": [
        "computers[\"Macbook\"] = 3000"
      ],
      "execution_count": null,
      "outputs": []
    },
    {
      "cell_type": "code",
      "metadata": {
        "id": "Ma7sMlSJ6622",
        "outputId": "ce666c87-ef58-427e-a77f-7075ab8c5ed7"
      },
      "source": [
        "inventory"
      ],
      "execution_count": null,
      "outputs": [
        {
          "output_type": "execute_result",
          "data": {
            "text/plain": [
              "ChainMap({'Blocks': 30, 'Monopoly': 20}, {'iMac': 1000, 'Chromebook': 800, 'PC': 400, 'Macbook': 3000}, {'Jeans': 40, 'T-Shirt': 10})"
            ]
          },
          "metadata": {
            "tags": []
          },
          "execution_count": 8
        }
      ]
    },
    {
      "cell_type": "code",
      "metadata": {
        "id": "26pXVjU_6623",
        "outputId": "7aba878b-ae24-4c1d-9734-71dd47e411e4"
      },
      "source": [
        "inventory[\"Macbook\"]"
      ],
      "execution_count": null,
      "outputs": [
        {
          "output_type": "execute_result",
          "data": {
            "text/plain": [
              "3000"
            ]
          },
          "metadata": {
            "tags": []
          },
          "execution_count": 11
        }
      ]
    },
    {
      "cell_type": "markdown",
      "metadata": {
        "id": "Ar0ryayv6623"
      },
      "source": [
        "Permite crear una nueva instancia con una asignación (diccionario) adicional al principio de la lista de mapas para que sea más fácil evitar modificar las estructuras de datos subyacentes existentes."
      ]
    },
    {
      "cell_type": "code",
      "metadata": {
        "id": "Ge14S9BV6623"
      },
      "source": [
        "import collections\n",
        "\n",
        "a = {\"a\": \"A\", \"c\": \"C\"}\n",
        "b = {\"b\": \"B\", \"c\": \"D\"}"
      ],
      "execution_count": null,
      "outputs": []
    },
    {
      "cell_type": "code",
      "metadata": {
        "id": "s9PD9icr6623"
      },
      "source": [
        "repetido = ChainMap(a, b)"
      ],
      "execution_count": null,
      "outputs": []
    },
    {
      "cell_type": "code",
      "metadata": {
        "id": "-29jIYWP6624",
        "outputId": "2e4374e8-356e-4e7d-efc9-b9908e81a729"
      },
      "source": [
        "repetido[\"c\"]"
      ],
      "execution_count": null,
      "outputs": [
        {
          "output_type": "execute_result",
          "data": {
            "text/plain": [
              "'C'"
            ]
          },
          "metadata": {
            "tags": []
          },
          "execution_count": 18
        }
      ]
    },
    {
      "cell_type": "code",
      "metadata": {
        "id": "FB4uubK06624"
      },
      "source": [
        "import argparse\n",
        "import os\n",
        "from collections import ChainMap"
      ],
      "execution_count": null,
      "outputs": []
    },
    {
      "cell_type": "code",
      "metadata": {
        "id": "qCRD3ryX6624"
      },
      "source": [
        "por_defecto = {\"verbose\": False}"
      ],
      "execution_count": null,
      "outputs": []
    },
    {
      "cell_type": "code",
      "metadata": {
        "collapsed": true,
        "jupyter": {
          "outputs_hidden": true
        },
        "id": "zPsLFaw-6624",
        "outputId": "d919d527-1801-44e1-f0a0-cdc7671dee7b"
      },
      "source": [
        "parser = argparse.ArgumentParser()\n",
        "parser.add_argument(\"--verbose\")\n",
        "args = parser.parse_args()"
      ],
      "execution_count": null,
      "outputs": [
        {
          "output_type": "stream",
          "text": [
            "usage: ipykernel_launcher.py [-h] [--verbose VERBOSE]\n",
            "ipykernel_launcher.py: error: unrecognized arguments: -f /Users/r/Library/Jupyter/runtime/kernel-8fb3630d-6785-4cb1-be5d-408df6d0f258.json\n"
          ],
          "name": "stderr"
        },
        {
          "output_type": "error",
          "ename": "SystemExit",
          "evalue": "2",
          "traceback": [
            "An exception has occurred, use %tb to see the full traceback.\n",
            "\u001b[0;31mSystemExit\u001b[0m\u001b[0;31m:\u001b[0m 2\n"
          ]
        },
        {
          "output_type": "stream",
          "text": [
            "/Users/r/Projects/teach/.venv/lib/python3.8/site-packages/IPython/core/interactiveshell.py:3351: UserWarning: To exit: use 'exit', 'quit', or Ctrl-D.\n",
            "  warn(\"To exit: use 'exit', 'quit', or Ctrl-D.\", stacklevel=1)\n"
          ],
          "name": "stderr"
        }
      ]
    },
    {
      "cell_type": "code",
      "metadata": {
        "collapsed": true,
        "jupyter": {
          "outputs_hidden": true
        },
        "id": "TMqw4CbJ6625",
        "outputId": "fd363d3d-8553-4eb8-d702-0c400aa5f80e"
      },
      "source": [
        "cli_args = {key: value for key, value in vars(args).items() if value}"
      ],
      "execution_count": null,
      "outputs": [
        {
          "output_type": "error",
          "ename": "NameError",
          "evalue": "name 'args' is not defined",
          "traceback": [
            "\u001b[0;31m---------------------------------------------------------------------------\u001b[0m",
            "\u001b[0;31mNameError\u001b[0m                                 Traceback (most recent call last)",
            "\u001b[0;32m<ipython-input-12-185fe3ea05bc>\u001b[0m in \u001b[0;36m<module>\u001b[0;34m\u001b[0m\n\u001b[0;32m----> 1\u001b[0;31m \u001b[0mcli_args\u001b[0m \u001b[0;34m=\u001b[0m \u001b[0;34m{\u001b[0m\u001b[0mkey\u001b[0m\u001b[0;34m:\u001b[0m \u001b[0mvalue\u001b[0m \u001b[0;32mfor\u001b[0m \u001b[0mkey\u001b[0m\u001b[0;34m,\u001b[0m \u001b[0mvalue\u001b[0m \u001b[0;32min\u001b[0m \u001b[0mvars\u001b[0m\u001b[0;34m(\u001b[0m\u001b[0margs\u001b[0m\u001b[0;34m)\u001b[0m\u001b[0;34m.\u001b[0m\u001b[0mitems\u001b[0m\u001b[0;34m(\u001b[0m\u001b[0;34m)\u001b[0m \u001b[0;32mif\u001b[0m \u001b[0mvalue\u001b[0m\u001b[0;34m}\u001b[0m\u001b[0;34m\u001b[0m\u001b[0;34m\u001b[0m\u001b[0m\n\u001b[0m",
            "\u001b[0;31mNameError\u001b[0m: name 'args' is not defined"
          ]
        }
      ]
    },
    {
      "cell_type": "code",
      "metadata": {
        "id": "zSZSN3Wz6625"
      },
      "source": [
        "config = ChainMap(cli_args, os.environ, defaults)"
      ],
      "execution_count": null,
      "outputs": []
    },
    {
      "cell_type": "code",
      "metadata": {
        "id": "d7iLZ7FL6625"
      },
      "source": [
        ""
      ],
      "execution_count": null,
      "outputs": []
    },
    {
      "cell_type": "code",
      "metadata": {
        "id": "p4xawh4a6625"
      },
      "source": [
        "# dd[\"a\"][\"b\"]"
      ],
      "execution_count": null,
      "outputs": []
    },
    {
      "cell_type": "code",
      "metadata": {
        "id": "OeqTS41M6626",
        "outputId": "d109039c-c616-4209-a7be-3f039824c0ea"
      },
      "source": [
        "m1 = collections.ChainMap(a, b)\n",
        "m2 = m1.new_child()\n",
        "\n",
        "print(\"m1 before:\", m1)\n",
        "print(\"m2 before:\", m2)"
      ],
      "execution_count": null,
      "outputs": [
        {
          "output_type": "stream",
          "text": [
            "m1 before: ChainMap({'a': 'A', 'c': 'C'}, {'b': 'B', 'c': 'D'})\n",
            "m2 before: ChainMap({}, {'a': 'A', 'c': 'C'}, {'b': 'B', 'c': 'D'})\n"
          ],
          "name": "stdout"
        }
      ]
    },
    {
      "cell_type": "code",
      "metadata": {
        "id": "lZ6RdEyR6626",
        "outputId": "4aa806bb-ea47-4a7c-e90f-9adb8343f0ee"
      },
      "source": [
        "m2[\"c\"] = \"E\"\n",
        "\n",
        "print(\"m1 after:\", m1)\n",
        "print(\"m2 after:\", m2)"
      ],
      "execution_count": null,
      "outputs": [
        {
          "output_type": "stream",
          "text": [
            "m1 after: ChainMap({'a': 'A', 'c': 'C'}, {'b': 'B', 'c': 'D'})\n",
            "m2 after: ChainMap({'c': 'E'}, {'a': 'A', 'c': 'C'}, {'b': 'B', 'c': 'D'})\n"
          ],
          "name": "stdout"
        }
      ]
    },
    {
      "cell_type": "markdown",
      "metadata": {
        "id": "cFaEVhKt6626"
      },
      "source": [
        "Más información:\n",
        "* https://docs.python.org/3.7/library/collections.html#collections.ChainMap\n",
        "* https://www.blog.pythonlibrary.org/2016/03/29/python-201-what-is-a-chainmap/\n",
        "* https://pymotw.com/3/collections/chainmap.html"
      ]
    },
    {
      "cell_type": "markdown",
      "metadata": {
        "id": "TNMe38MV6626"
      },
      "source": [
        "## OrderedDict"
      ]
    },
    {
      "cell_type": "markdown",
      "metadata": {
        "id": "as7BR8066627"
      },
      "source": [
        "`OrderedDict` es un diccionario en el que las claves mantienen el orden en que se insertan, lo que significa que si cambia el valor de una clave más adelante, no cambiará la posición de la clave."
      ]
    },
    {
      "cell_type": "code",
      "metadata": {
        "id": "whfa7RFi6627"
      },
      "source": [
        "d = {}"
      ],
      "execution_count": null,
      "outputs": []
    },
    {
      "cell_type": "code",
      "metadata": {
        "id": "1XRu_GSp6627"
      },
      "source": [
        "d[\"aaa\"] = 1"
      ],
      "execution_count": null,
      "outputs": []
    },
    {
      "cell_type": "code",
      "metadata": {
        "id": "P8pQ1hs_6627",
        "outputId": "717ea064-4f14-44aa-b2db-39704f2a9bc7"
      },
      "source": [
        "d"
      ],
      "execution_count": null,
      "outputs": [
        {
          "output_type": "execute_result",
          "data": {
            "text/plain": [
              "{'aaa': 1}"
            ]
          },
          "metadata": {
            "tags": []
          },
          "execution_count": 16
        }
      ]
    },
    {
      "cell_type": "code",
      "metadata": {
        "id": "MMkMExd06628"
      },
      "source": [
        "cnt = collections.Counter(milista)\n",
        "nod = dict(cnt.most_common())"
      ],
      "execution_count": null,
      "outputs": []
    },
    {
      "cell_type": "code",
      "metadata": {
        "id": "6BcwXrq76628"
      },
      "source": [
        "from collections import OrderedDict"
      ],
      "execution_count": null,
      "outputs": []
    },
    {
      "cell_type": "code",
      "metadata": {
        "id": "I7Y-aAsT6628",
        "outputId": "bc96006c-9517-41c8-bc39-f63a7c0167a8"
      },
      "source": [
        "milista = [\"a\", \"c\", \"c\", \"a\", \"b\", \"a\", \"a\", \"b\", \"c\"]\n",
        "\n",
        "od = collections.OrderedDict(cnt.most_common())\n",
        "\n",
        "for key, value in od.items():\n",
        "    print(key, value)"
      ],
      "execution_count": null,
      "outputs": [
        {
          "output_type": "stream",
          "text": [
            "a 4\n",
            "c 3\n",
            "b 2\n"
          ],
          "name": "stdout"
        }
      ]
    },
    {
      "cell_type": "code",
      "metadata": {
        "id": "cPba_5m_6628",
        "outputId": "e5f053bd-c892-4c6f-bc72-1449fa86cfad"
      },
      "source": [
        "od[\"a\"] = 20\n",
        "od"
      ],
      "execution_count": null,
      "outputs": [
        {
          "output_type": "execute_result",
          "data": {
            "text/plain": [
              "OrderedDict([('a', 20), ('c', 3), ('b', 2)])"
            ]
          },
          "metadata": {
            "tags": []
          },
          "execution_count": 14
        }
      ]
    },
    {
      "cell_type": "code",
      "metadata": {
        "id": "OJp1og106629",
        "outputId": "ea8ad66d-7c1e-4cda-fac3-251e87f75939"
      },
      "source": [
        "nod[\"a\"] = 40\n",
        "\n",
        "for k, v in nod.items():\n",
        "    print(k, v)"
      ],
      "execution_count": null,
      "outputs": [
        {
          "output_type": "stream",
          "text": [
            "a 40\n",
            "c 3\n",
            "b 2\n"
          ],
          "name": "stdout"
        }
      ]
    },
    {
      "cell_type": "markdown",
      "metadata": {
        "id": "FTB2v22B6629"
      },
      "source": [
        "Más información:\n",
        "\n",
        "* https://stackabuse.com/introduction-to-pythons-collections-module/#theordereddict"
      ]
    },
    {
      "cell_type": "markdown",
      "metadata": {
        "id": "UcWcavNe6629"
      },
      "source": [
        "## defaultdict"
      ]
    },
    {
      "cell_type": "code",
      "metadata": {
        "id": "rcIe4xGD6629"
      },
      "source": [
        "for valor in milista:\n",
        "    if valor in midiccionario.values() and isinstance(midiccionario[valor]):\n",
        "        midiccionario[valor].append(123)\n",
        "    else:\n",
        "        midiccionario[valor]= []\n",
        "        midiccionario[valor].append(123)"
      ],
      "execution_count": null,
      "outputs": []
    },
    {
      "cell_type": "code",
      "metadata": {
        "id": "hktBdrgr662-"
      },
      "source": [
        "from collections import defaultdict"
      ],
      "execution_count": null,
      "outputs": []
    },
    {
      "cell_type": "code",
      "metadata": {
        "id": "ibMULs1v662-"
      },
      "source": [
        "bbdd = defaultdict(list)"
      ],
      "execution_count": null,
      "outputs": []
    },
    {
      "cell_type": "code",
      "metadata": {
        "id": "CL_u6X1i662-"
      },
      "source": [
        "bbdd[\"a\"] = 1"
      ],
      "execution_count": null,
      "outputs": []
    },
    {
      "cell_type": "code",
      "metadata": {
        "id": "ZijqMt8g662-"
      },
      "source": [
        "bbdd[\"c\"].append(45)"
      ],
      "execution_count": null,
      "outputs": []
    },
    {
      "cell_type": "code",
      "metadata": {
        "id": "ylrY-bjU662-",
        "outputId": "f8b7c32f-bd8c-432d-a4a3-30dc55008c41"
      },
      "source": [
        "bbdd"
      ],
      "execution_count": null,
      "outputs": [
        {
          "output_type": "execute_result",
          "data": {
            "text/plain": [
              "defaultdict(list, {'c': [45]})"
            ]
          },
          "metadata": {
            "tags": []
          },
          "execution_count": 43
        }
      ]
    },
    {
      "cell_type": "markdown",
      "metadata": {
        "id": "qP6ydXv6662_"
      },
      "source": [
        "## enum"
      ]
    },
    {
      "cell_type": "code",
      "metadata": {
        "id": "wuSs7nn-662_"
      },
      "source": [
        "from enum import Enum\n",
        "\n",
        "\n",
        "class Color(Enum):\n",
        "    RED = 1\n",
        "    GREEN = 2\n",
        "    BLUE = 3"
      ],
      "execution_count": null,
      "outputs": []
    },
    {
      "cell_type": "code",
      "metadata": {
        "id": "T4e5MIzz662_",
        "outputId": "0be8c0bd-3552-4cd3-c583-da68b11e9b26"
      },
      "source": [
        "print(Color.RED)"
      ],
      "execution_count": null,
      "outputs": [
        {
          "output_type": "stream",
          "text": [
            "Color.RED\n"
          ],
          "name": "stdout"
        }
      ]
    },
    {
      "cell_type": "code",
      "metadata": {
        "id": "hLYhLoGM663A",
        "outputId": "81479c70-ebd0-4576-8b20-bead0047560d"
      },
      "source": [
        "type(Color.RED)"
      ],
      "execution_count": null,
      "outputs": [
        {
          "output_type": "execute_result",
          "data": {
            "text/plain": [
              "<enum 'Color'>"
            ]
          },
          "metadata": {
            "tags": []
          },
          "execution_count": 47
        }
      ]
    },
    {
      "cell_type": "code",
      "metadata": {
        "id": "H1XTxRft663A",
        "outputId": "ce7653ae-bf9d-4342-ad32-62f5817cafbd"
      },
      "source": [
        "isinstance(Color.GREEN, Color)"
      ],
      "execution_count": null,
      "outputs": [
        {
          "output_type": "execute_result",
          "data": {
            "text/plain": [
              "True"
            ]
          },
          "metadata": {
            "tags": []
          },
          "execution_count": 48
        }
      ]
    },
    {
      "cell_type": "code",
      "metadata": {
        "id": "rHDml9e4663B",
        "outputId": "f64b86fd-affc-4e97-acf5-ea4f110a2f9b"
      },
      "source": [
        "print(Color.RED.name)"
      ],
      "execution_count": null,
      "outputs": [
        {
          "output_type": "stream",
          "text": [
            "RED\n"
          ],
          "name": "stdout"
        }
      ]
    },
    {
      "cell_type": "code",
      "metadata": {
        "id": "kXcacPK9663B",
        "outputId": "c1de9e84-52eb-4c1a-97c0-9582f80b3b36"
      },
      "source": [
        "print(Color[\"RED\"])\n",
        "print(Color(1))"
      ],
      "execution_count": null,
      "outputs": [
        {
          "output_type": "stream",
          "text": [
            "Color.RED\n",
            "Color.RED\n"
          ],
          "name": "stdout"
        }
      ]
    },
    {
      "cell_type": "markdown",
      "metadata": {
        "id": "Q3NT-0wU663B"
      },
      "source": [
        "No se puede repetir el nombre"
      ]
    },
    {
      "cell_type": "code",
      "metadata": {
        "id": "_xRTa9gm663B"
      },
      "source": [
        "def imprimir_color(color: Color) -> str:\n",
        "    \n",
        "    return \"asdasd\""
      ],
      "execution_count": null,
      "outputs": []
    },
    {
      "cell_type": "code",
      "metadata": {
        "id": "mkoIPxvv663B"
      },
      "source": [
        "from enum import Enum, unique\n",
        "\n",
        "class Mistake2(Enum):\n",
        "    ONE = 1\n",
        "    TWO = 2\n",
        "    THREE = 3\n",
        "    FOUR = 3"
      ],
      "execution_count": null,
      "outputs": []
    },
    {
      "cell_type": "code",
      "metadata": {
        "id": "McnlFlpQ663C",
        "outputId": "79f1a35c-ea2c-4105-e14d-1629b0baf161"
      },
      "source": [
        "Mistake2(3)"
      ],
      "execution_count": null,
      "outputs": [
        {
          "output_type": "execute_result",
          "data": {
            "text/plain": [
              "<Mistake2.THREE: 3>"
            ]
          },
          "metadata": {
            "tags": []
          },
          "execution_count": 56
        }
      ]
    },
    {
      "cell_type": "code",
      "metadata": {
        "collapsed": true,
        "jupyter": {
          "outputs_hidden": true
        },
        "id": "zsxjgXnS663C",
        "outputId": "c1369c72-f141-4af6-d3c0-c54ea4dfa77a"
      },
      "source": [
        "class Shape(Enum):\n",
        "    SQUARE = 2\n",
        "    SQUARE = 3"
      ],
      "execution_count": null,
      "outputs": [
        {
          "output_type": "error",
          "ename": "TypeError",
          "evalue": "Attempted to reuse key: 'SQUARE'",
          "traceback": [
            "\u001b[0;31m---------------------------------------------------------------------------\u001b[0m",
            "\u001b[0;31mTypeError\u001b[0m                                 Traceback (most recent call last)",
            "\u001b[0;32m<ipython-input-32-982577b12b2c>\u001b[0m in \u001b[0;36m<module>\u001b[0;34m\u001b[0m\n\u001b[0;32m----> 1\u001b[0;31m \u001b[0;32mclass\u001b[0m \u001b[0mShape\u001b[0m\u001b[0;34m(\u001b[0m\u001b[0mEnum\u001b[0m\u001b[0;34m)\u001b[0m\u001b[0;34m:\u001b[0m\u001b[0;34m\u001b[0m\u001b[0;34m\u001b[0m\u001b[0m\n\u001b[0m\u001b[1;32m      2\u001b[0m     \u001b[0mSQUARE\u001b[0m \u001b[0;34m=\u001b[0m \u001b[0;36m2\u001b[0m\u001b[0;34m\u001b[0m\u001b[0;34m\u001b[0m\u001b[0m\n\u001b[1;32m      3\u001b[0m     \u001b[0mSQUARE\u001b[0m \u001b[0;34m=\u001b[0m \u001b[0;36m3\u001b[0m\u001b[0;34m\u001b[0m\u001b[0;34m\u001b[0m\u001b[0m\n",
            "\u001b[0;32m<ipython-input-32-982577b12b2c>\u001b[0m in \u001b[0;36mShape\u001b[0;34m()\u001b[0m\n\u001b[1;32m      1\u001b[0m \u001b[0;32mclass\u001b[0m \u001b[0mShape\u001b[0m\u001b[0;34m(\u001b[0m\u001b[0mEnum\u001b[0m\u001b[0;34m)\u001b[0m\u001b[0;34m:\u001b[0m\u001b[0;34m\u001b[0m\u001b[0;34m\u001b[0m\u001b[0m\n\u001b[1;32m      2\u001b[0m     \u001b[0mSQUARE\u001b[0m \u001b[0;34m=\u001b[0m \u001b[0;36m2\u001b[0m\u001b[0;34m\u001b[0m\u001b[0;34m\u001b[0m\u001b[0m\n\u001b[0;32m----> 3\u001b[0;31m     \u001b[0mSQUARE\u001b[0m \u001b[0;34m=\u001b[0m \u001b[0;36m3\u001b[0m\u001b[0;34m\u001b[0m\u001b[0;34m\u001b[0m\u001b[0m\n\u001b[0m",
            "\u001b[0;32m/usr/local/Cellar/python/3.7.7/Frameworks/Python.framework/Versions/3.7/lib/python3.7/enum.py\u001b[0m in \u001b[0;36m__setitem__\u001b[0;34m(self, key, value)\u001b[0m\n\u001b[1;32m     99\u001b[0m         \u001b[0;32melif\u001b[0m \u001b[0mkey\u001b[0m \u001b[0;32min\u001b[0m \u001b[0mself\u001b[0m\u001b[0;34m.\u001b[0m\u001b[0m_member_names\u001b[0m\u001b[0;34m:\u001b[0m\u001b[0;34m\u001b[0m\u001b[0;34m\u001b[0m\u001b[0m\n\u001b[1;32m    100\u001b[0m             \u001b[0;31m# descriptor overwriting an enum?\u001b[0m\u001b[0;34m\u001b[0m\u001b[0;34m\u001b[0m\u001b[0;34m\u001b[0m\u001b[0m\n\u001b[0;32m--> 101\u001b[0;31m             \u001b[0;32mraise\u001b[0m \u001b[0mTypeError\u001b[0m\u001b[0;34m(\u001b[0m\u001b[0;34m'Attempted to reuse key: %r'\u001b[0m \u001b[0;34m%\u001b[0m \u001b[0mkey\u001b[0m\u001b[0;34m)\u001b[0m\u001b[0;34m\u001b[0m\u001b[0;34m\u001b[0m\u001b[0m\n\u001b[0m\u001b[1;32m    102\u001b[0m         \u001b[0;32melif\u001b[0m \u001b[0mkey\u001b[0m \u001b[0;32min\u001b[0m \u001b[0mself\u001b[0m\u001b[0;34m.\u001b[0m\u001b[0m_ignore\u001b[0m\u001b[0;34m:\u001b[0m\u001b[0;34m\u001b[0m\u001b[0;34m\u001b[0m\u001b[0m\n\u001b[1;32m    103\u001b[0m             \u001b[0;32mpass\u001b[0m\u001b[0;34m\u001b[0m\u001b[0;34m\u001b[0m\u001b[0m\n",
            "\u001b[0;31mTypeError\u001b[0m: Attempted to reuse key: 'SQUARE'"
          ]
        }
      ]
    },
    {
      "cell_type": "markdown",
      "metadata": {
        "id": "y0E6kUqJ663C"
      },
      "source": [
        "Por defecto, los `enum` permiten múltiples nombres como alias para un mismo valor. Cuando no queremos este comportamiento, se puede usar el siguiente decorador para garantizar que cada valor se use solo una vez en la enumeración:\n",
        "\n",
        "`@enum.unique`"
      ]
    },
    {
      "cell_type": "code",
      "metadata": {
        "id": "onwiwAT3663C"
      },
      "source": [
        "def print_color(color):\n",
        "\n",
        "    assert isinstance(color, Color), print(\"not a color\")\n",
        "    \n",
        "    print(color)"
      ],
      "execution_count": null,
      "outputs": []
    },
    {
      "cell_type": "code",
      "metadata": {
        "id": "CZGaMjDg663D",
        "outputId": "ab28882c-10b4-4748-9136-cf9104d57bc5"
      },
      "source": [
        "print_color(Color.RED)"
      ],
      "execution_count": null,
      "outputs": [
        {
          "output_type": "stream",
          "text": [
            "Color.RED\n"
          ],
          "name": "stdout"
        }
      ]
    },
    {
      "cell_type": "code",
      "metadata": {
        "id": "QMIYdgly663D"
      },
      "source": [
        "from enum import Enum, unique\n",
        "\n",
        "\n",
        "@unique\n",
        "class Mistake(Enum):\n",
        "    ONE = 1\n",
        "    TWO = 2\n",
        "    THREE = 3\n",
        "    FOUR = 4"
      ],
      "execution_count": null,
      "outputs": []
    },
    {
      "cell_type": "code",
      "metadata": {
        "id": "t3IeRfU_663D",
        "outputId": "1cf28966-b7cb-42d2-fd7e-a6a16d4bd148"
      },
      "source": [
        "Mistake(4)"
      ],
      "execution_count": null,
      "outputs": [
        {
          "output_type": "execute_result",
          "data": {
            "text/plain": [
              "<Mistake.FOUR: 4>"
            ]
          },
          "metadata": {
            "tags": []
          },
          "execution_count": 60
        }
      ]
    },
    {
      "cell_type": "markdown",
      "metadata": {
        "id": "jC_T0cHH663D"
      },
      "source": [
        "Cual será el resultado de esto?"
      ]
    },
    {
      "cell_type": "code",
      "metadata": {
        "id": "AfhkdIgC663D",
        "outputId": "c810601a-a48c-455f-b442-18f683c60562"
      },
      "source": [
        "from enum import auto, Enum\n",
        "\n",
        "\n",
        "class Ordinal(Enum):\n",
        "    NORTH = auto()\n",
        "    SOUTH = auto()\n",
        "    EAST = auto()\n",
        "    WEST = auto()\n",
        "    AAA = auto()\n",
        "    \n",
        "list(Ordinal)"
      ],
      "execution_count": null,
      "outputs": [
        {
          "output_type": "execute_result",
          "data": {
            "text/plain": [
              "[<Ordinal.NORTH: 1>,\n",
              " <Ordinal.SOUTH: 2>,\n",
              " <Ordinal.EAST: 3>,\n",
              " <Ordinal.WEST: 4>,\n",
              " <Ordinal.AAA: 5>]"
            ]
          },
          "metadata": {
            "tags": []
          },
          "execution_count": 61
        }
      ]
    },
    {
      "cell_type": "code",
      "metadata": {
        "id": "vRkYPP0B663E",
        "outputId": "a70dedc4-ce1f-410e-defe-5af0ba2d60fe"
      },
      "source": [
        "class AutoName(Enum):\n",
        "    def _generate_next_value_(name, start, count, last_values):\n",
        "        return name  # definimos que la función auto() le de como valor a cada elemento su propio nombre\n",
        "\n",
        "\n",
        "class Ordinal(AutoName):\n",
        "    NORTH = auto()\n",
        "    SOUTH = auto()\n",
        "    EAST = auto()\n",
        "    WEST = auto()\n",
        "\n",
        "\n",
        "list(Ordinal)"
      ],
      "execution_count": null,
      "outputs": [
        {
          "output_type": "execute_result",
          "data": {
            "text/plain": [
              "[<Ordinal.NORTH: 'NORTH'>,\n",
              " <Ordinal.SOUTH: 'SOUTH'>,\n",
              " <Ordinal.EAST: 'EAST'>,\n",
              " <Ordinal.WEST: 'WEST'>]"
            ]
          },
          "metadata": {
            "tags": []
          },
          "execution_count": 30
        }
      ]
    },
    {
      "cell_type": "markdown",
      "metadata": {
        "id": "hO93IRRd663E"
      },
      "source": [
        "Por ejemplo, si quieres que los usuarios indiquen que no es \"Verde\", \"verde\", o \"Veerde\", sino Color.green: usad el objeto `enum.Enum`. Es a la vez explícito y específico (cosas a las que siempre aspirar en Python)."
      ]
    },
    {
      "cell_type": "code",
      "metadata": {
        "id": "6dGSTEx7663E"
      },
      "source": [
        "from enum import Enum\n",
        "\n",
        "class EstadoBug(Enum):\n",
        "    \n",
        "    nuevo = 7\n",
        "    incompleto = 6\n",
        "    invalido = 5\n",
        "    no_arreglar = 4\n",
        "    en_progreso = 3\n",
        "    fix_subido = 2\n",
        "    fix_publicado = 1"
      ],
      "execution_count": null,
      "outputs": []
    },
    {
      "cell_type": "code",
      "metadata": {
        "id": "0O6WCsuN663E"
      },
      "source": [
        "estado_actual = EstadoBug.no_arreglar\n",
        "estado_deseado = EstadoBug.fix_publicado"
      ],
      "execution_count": null,
      "outputs": []
    },
    {
      "cell_type": "code",
      "metadata": {
        "id": "uruhByhZ663F",
        "outputId": "1048b4f9-3b25-4e0c-f2d9-00ef420de9f7"
      },
      "source": [
        "estado_actual == estado_deseado"
      ],
      "execution_count": null,
      "outputs": [
        {
          "output_type": "execute_result",
          "data": {
            "text/plain": [
              "False"
            ]
          },
          "metadata": {
            "tags": []
          },
          "execution_count": 65
        }
      ]
    },
    {
      "cell_type": "code",
      "metadata": {
        "id": "ZG8zI-yl663F"
      },
      "source": [
        "if estado_actual != EstadoBug.fix_publicado:\n",
        "    enviar_email(direcion:\"asdasd@asdasd\")"
      ],
      "execution_count": null,
      "outputs": []
    },
    {
      "cell_type": "markdown",
      "metadata": {
        "id": "kBIF46T1663F"
      },
      "source": [
        "### El Zen the Python"
      ]
    },
    {
      "cell_type": "code",
      "metadata": {
        "id": "7ThsTkLw663F",
        "outputId": "a351bf2e-e652-4764-e05e-38fa0717d908"
      },
      "source": [
        "import this"
      ],
      "execution_count": null,
      "outputs": [
        {
          "output_type": "stream",
          "text": [
            "The Zen of Python, by Tim Peters\n",
            "\n",
            "Beautiful is better than ugly.\n",
            "Explicit is better than implicit.\n",
            "Simple is better than complex.\n",
            "Complex is better than complicated.\n",
            "Flat is better than nested.\n",
            "Sparse is better than dense.\n",
            "Readability counts.\n",
            "Special cases aren't special enough to break the rules.\n",
            "Although practicality beats purity.\n",
            "Errors should never pass silently.\n",
            "Unless explicitly silenced.\n",
            "In the face of ambiguity, refuse the temptation to guess.\n",
            "There should be one-- and preferably only one --obvious way to do it.\n",
            "Although that way may not be obvious at first unless you're Dutch.\n",
            "Now is better than never.\n",
            "Although never is often better than *right* now.\n",
            "If the implementation is hard to explain, it's a bad idea.\n",
            "If the implementation is easy to explain, it may be a good idea.\n",
            "Namespaces are one honking great idea -- let's do more of those!\n"
          ],
          "name": "stdout"
        }
      ]
    },
    {
      "cell_type": "markdown",
      "metadata": {
        "id": "GS3J81eV663G"
      },
      "source": [
        "Más información:\n",
        "* https://docs.python.org/3.7/library/enum.html 👈🏼\n",
        "* https://stackoverflow.com/questions/37601644/python-whats-the-enum-type-good-for\n",
        "* https://pymotw.com/3/enum/"
      ]
    },
    {
      "cell_type": "markdown",
      "metadata": {
        "id": "kyzTnu96663G"
      },
      "source": [
        "### Counter"
      ]
    },
    {
      "cell_type": "markdown",
      "metadata": {
        "id": "6SuZKLOj663G"
      },
      "source": [
        "**collections.Counter** nos poermite, de forma automática, contar el número de veces que aparece cada elemento en, por ejemplo, una lista."
      ]
    },
    {
      "cell_type": "markdown",
      "metadata": {
        "id": "j-6NQhgZ663G"
      },
      "source": [
        "*El ejemplo mostrado durante el curso se ha eliminado porque usaba un archivo local de mi ordenador.*"
      ]
    },
    {
      "cell_type": "code",
      "metadata": {
        "id": "fPeQ9oPh663G"
      },
      "source": [
        "from collections import Counter\n",
        "\n",
        "words = [\"hola\", \"hola\", \"adios\", \"curso\", \"python\", \"python\", \"python\"]\n",
        "\n",
        "\n",
        "contador = Counter(words)"
      ],
      "execution_count": null,
      "outputs": []
    },
    {
      "cell_type": "code",
      "metadata": {
        "id": "YuQX6Trq663G",
        "outputId": "992ad66c-1b25-4147-8975-6f54c14367ab"
      },
      "source": [
        "contador"
      ],
      "execution_count": null,
      "outputs": [
        {
          "output_type": "execute_result",
          "data": {
            "text/plain": [
              "Counter({'hola': 2, 'adios': 1, 'curso': 1, 'python': 3})"
            ]
          },
          "metadata": {
            "tags": []
          },
          "execution_count": 68
        }
      ]
    },
    {
      "cell_type": "code",
      "metadata": {
        "id": "BDFfstUr663H",
        "outputId": "2d6d7e32-918e-43ea-947e-928677b8e325"
      },
      "source": [
        "contador.most_common()"
      ],
      "execution_count": null,
      "outputs": [
        {
          "output_type": "execute_result",
          "data": {
            "text/plain": [
              "[('python', 3), ('hola', 2), ('adios', 1), ('curso', 1)]"
            ]
          },
          "metadata": {
            "tags": []
          },
          "execution_count": 69
        }
      ]
    },
    {
      "cell_type": "code",
      "metadata": {
        "id": "cmww3yTf663H"
      },
      "source": [
        "import collections\n",
        "\n",
        "\n",
        "contador = collections.Counter(words)\n",
        "\n",
        "contador.most_common(20) # mostrar las 20 más comunes y el número de veces que aparece cada una"
      ],
      "execution_count": null,
      "outputs": []
    },
    {
      "cell_type": "markdown",
      "metadata": {
        "id": "XXZRqjak663H"
      },
      "source": [
        "lambda functions, comprehensions, map"
      ]
    },
    {
      "cell_type": "markdown",
      "metadata": {
        "id": "tEBQW5Sc663H"
      },
      "source": [
        "### Ejercicios"
      ]
    },
    {
      "cell_type": "markdown",
      "metadata": {
        "id": "yRW4_LY_663H"
      },
      "source": [
        "https://gist.githubusercontent.com/jsdario/6d6c69398cb0c73111e49f1218960f79/raw/8d4fc4548d437e2a7203a5aeeace5477f598827d/el_quijote.txt"
      ]
    },
    {
      "cell_type": "markdown",
      "metadata": {
        "id": "64G0yfn9663I"
      },
      "source": [
        "* Descargar el texto de la URL enviada por el chat usando la librería `requests`. **Si no podéis descargarlo**: se puede copiar todo el texto y pegarlo en un archivo `.txt`, el ejercicio entonces será abrir y leer ese archivo.\n",
        "* Convertir texto a MINÚSCULAS.\n",
        "* Crear una lista con todas las palabras que hay en el texto.\n",
        "* Usar `collections.Counter` con esta lista de palabras y ver cuales son las 10 palabras más comunes.\n",
        "\n",
        "**Extra**\n",
        "\n",
        "* Lo mismo que antes, pero sin tener en cuenta las palabras que están en esta lista: https://raw.githubusercontent.com/Alir3z4/stop-words/master/spanish.txt\n",
        "* ¿Cual es la palabra más larga del texto? (en longitud de caracteres)\n",
        "* Crear una lista con todas las palabras que empiezan por la letra -> **L** <- (minúscula)"
      ]
    },
    {
      "cell_type": "markdown",
      "metadata": {
        "id": "qROh3xJo663I"
      },
      "source": [
        "Cosas a tener en cuenta (o buscar como se hacen):\n",
        "* descar contenidos de una URL\n",
        "* convertir texto a minusculas\n",
        "* dividir una cadena de texto\n",
        "\n",
        "..."
      ]
    },
    {
      "cell_type": "markdown",
      "metadata": {
        "id": "Q4vyrcVR663J"
      },
      "source": [
        "# Título: cheatsheet de markdown\n",
        "\n",
        "## Título 2\n",
        "\n",
        "**negrita**\n",
        "\n",
        "*cursiva*\n",
        "\n",
        "`código`\n",
        "\n",
        "* lista\n",
        "* lista"
      ]
    },
    {
      "cell_type": "markdown",
      "metadata": {
        "id": "BB2c_jQN663J"
      },
      "source": [
        "Ricardo Ander-Egg Aguilar\n",
        "\n",
        "* 🖥: https://ricardoanderegg.com/\n",
        "* 🐦: https://twitter.com/ricardoanderegg\n",
        "* 👨🏻‍🎓: https://www.linkedin.com/in/ricardoanderegg/"
      ]
    },
    {
      "cell_type": "markdown",
      "metadata": {
        "id": "9X92UPIk663J"
      },
      "source": [
        "* https://docs.python.org/3.7/library/collections.html#collections.Counter"
      ]
    }
  ]
}